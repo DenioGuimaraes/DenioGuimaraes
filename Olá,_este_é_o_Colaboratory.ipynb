{
  "cells": [
    {
      "cell_type": "markdown",
      "metadata": {
        "id": "view-in-github",
        "colab_type": "text"
      },
      "source": [
        "<a href=\"https://colab.research.google.com/github/DenioGuimaraes/DenioGuimaraes/blob/main/Ol%C3%A1%2C_este_%C3%A9_o_Colaboratory.ipynb\" target=\"_parent\"><img src=\"https://colab.research.google.com/assets/colab-badge.svg\" alt=\"Open In Colab\"/></a>"
      ]
    },
    {
      "cell_type": "code",
      "source": [
        "import datetime\n",
        "class Cliente:\n",
        "  def __init__(self,cpf,nome,endereco):\n",
        "    self.cpf = cpf\n",
        "    self.nome = nome\n",
        "    self.endereco = endereco\n",
        "\n",
        "class Conta:\n",
        "    def __init__(self,clientes,numero,saldo):\n",
        "        self.clientes = clientes\n",
        "        self.numero = numero\n",
        "        self.saldo = saldo\n",
        "        self.data_abertura = datetime.datetime.today()\n",
        "        self.extrato = Extrato () \n",
        "\n",
        "    def depositar(self, valor):\n",
        "        self.saldo += valor\n",
        "        self.extrato.transacoes.append([\"DEPOSITO\", valor, \"Data\",datetime.datetime.today ()])\n",
        "\n",
        "    def sacar(self, valor):\n",
        "        if self.saldo < valor:\n",
        "            return False\n",
        "        else:\n",
        "            self.saldo -= valor\n",
        "            self.extrato.transacoes.append([\"SAQUE\", valor, \"Data\", datetime.datetime.today()]) \n",
        "            return True\n",
        "\n",
        "    def transfereValor(self, contadestino, valor):\n",
        "        if self.saldo < valor:\n",
        "            return \"Não existe saldo suficiente\"\n",
        "        else:\n",
        "            contadestino.depositar(valor)\n",
        "            self.saldo -= valor\n",
        "            self.extrato.transacoes.append([\"TRANSFERENCIA\", valor, \"Data\", datetime.datetime.today()]) \n",
        "            return \"Transferencia Realizada\"\n",
        "\n",
        "    def gerarsaldo(self):\n",
        "        print(f\"numero: {self.unmero}\\n saldo:{self.saldo}\")\n",
        "\n",
        "\n",
        "class Extrato:\n",
        "  def __init_(self, transacoes):\n",
        "          self.transacoes = []\n",
        "\n",
        "  def extrato(self, numeroconta):\n",
        "          print(f'Extrato : {numeroconta} \\n')\n",
        "          for p in self.transacoes:\n",
        "                  print(f'{p[0]:15s} {p[1]:10.2f} {p[2]:10s} {p[3].strftime(\"%d/%b/%y\")}')\n",
        "\n",
        "\n",
        "def main():\n",
        "  #from contas import Conta\n",
        "  #from clientes import Cliente\n",
        "  cliente1 = Cliente(\"123\",\"Joao\",\"Rua X\")\n",
        "  cliente2 = Cliente (\"456\",\"Maria\",\"Rua W\")\n",
        "  conta1 = Conta([cliente1,cliente2],1,2000)\n",
        "  conta1.depositar(1000)\n",
        "  conta1.sacar(1500)\n",
        "  conta1.extrato.extrato(conta1.numero)\n",
        "\n",
        "if __name__ == \"__main__\": \n",
        "    main()\n"
      ],
      "metadata": {
        "id": "sXd85VoddkGd",
        "outputId": "56300478-504a-4b8e-e414-2a2b4f1abb3d",
        "colab": {
          "base_uri": "https://localhost:8080/",
          "height": 345
        }
      },
      "execution_count": 63,
      "outputs": [
        {
          "output_type": "error",
          "ename": "AttributeError",
          "evalue": "ignored",
          "traceback": [
            "\u001b[0;31m---------------------------------------------------------------------------\u001b[0m",
            "\u001b[0;31mAttributeError\u001b[0m                            Traceback (most recent call last)",
            "\u001b[0;32m<ipython-input-63-728dc97ccfcc>\u001b[0m in \u001b[0;36m<module>\u001b[0;34m\u001b[0m\n\u001b[1;32m     60\u001b[0m \u001b[0;34m\u001b[0m\u001b[0m\n\u001b[1;32m     61\u001b[0m \u001b[0;32mif\u001b[0m \u001b[0m__name__\u001b[0m \u001b[0;34m==\u001b[0m \u001b[0;34m\"__main__\"\u001b[0m\u001b[0;34m:\u001b[0m\u001b[0;34m\u001b[0m\u001b[0;34m\u001b[0m\u001b[0m\n\u001b[0;32m---> 62\u001b[0;31m     \u001b[0mmain\u001b[0m\u001b[0;34m(\u001b[0m\u001b[0;34m)\u001b[0m\u001b[0;34m\u001b[0m\u001b[0;34m\u001b[0m\u001b[0m\n\u001b[0m",
            "\u001b[0;32m<ipython-input-63-728dc97ccfcc>\u001b[0m in \u001b[0;36mmain\u001b[0;34m()\u001b[0m\n\u001b[1;32m     55\u001b[0m   \u001b[0mcliente2\u001b[0m \u001b[0;34m=\u001b[0m \u001b[0mCliente\u001b[0m \u001b[0;34m(\u001b[0m\u001b[0;34m\"456\"\u001b[0m\u001b[0;34m,\u001b[0m\u001b[0;34m\"Maria\"\u001b[0m\u001b[0;34m,\u001b[0m\u001b[0;34m\"Rua W\"\u001b[0m\u001b[0;34m)\u001b[0m\u001b[0;34m\u001b[0m\u001b[0;34m\u001b[0m\u001b[0m\n\u001b[1;32m     56\u001b[0m   \u001b[0mconta1\u001b[0m \u001b[0;34m=\u001b[0m \u001b[0mConta\u001b[0m\u001b[0;34m(\u001b[0m\u001b[0;34m[\u001b[0m\u001b[0mcliente1\u001b[0m\u001b[0;34m,\u001b[0m\u001b[0mcliente2\u001b[0m\u001b[0;34m]\u001b[0m\u001b[0;34m,\u001b[0m\u001b[0;36m1\u001b[0m\u001b[0;34m,\u001b[0m\u001b[0;36m2000\u001b[0m\u001b[0;34m)\u001b[0m\u001b[0;34m\u001b[0m\u001b[0;34m\u001b[0m\u001b[0m\n\u001b[0;32m---> 57\u001b[0;31m   \u001b[0mconta1\u001b[0m\u001b[0;34m.\u001b[0m\u001b[0mdepositar\u001b[0m\u001b[0;34m(\u001b[0m\u001b[0;36m1000\u001b[0m\u001b[0;34m)\u001b[0m\u001b[0;34m\u001b[0m\u001b[0;34m\u001b[0m\u001b[0m\n\u001b[0m\u001b[1;32m     58\u001b[0m   \u001b[0mconta1\u001b[0m\u001b[0;34m.\u001b[0m\u001b[0msacar\u001b[0m\u001b[0;34m(\u001b[0m\u001b[0;36m1500\u001b[0m\u001b[0;34m)\u001b[0m\u001b[0;34m\u001b[0m\u001b[0;34m\u001b[0m\u001b[0m\n\u001b[1;32m     59\u001b[0m   \u001b[0mconta1\u001b[0m\u001b[0;34m.\u001b[0m\u001b[0mextrato\u001b[0m\u001b[0;34m.\u001b[0m\u001b[0mextrato\u001b[0m\u001b[0;34m(\u001b[0m\u001b[0mconta1\u001b[0m\u001b[0;34m.\u001b[0m\u001b[0mnumero\u001b[0m\u001b[0;34m)\u001b[0m\u001b[0;34m\u001b[0m\u001b[0;34m\u001b[0m\u001b[0m\n",
            "\u001b[0;32m<ipython-input-63-728dc97ccfcc>\u001b[0m in \u001b[0;36mdepositar\u001b[0;34m(self, valor)\u001b[0m\n\u001b[1;32m     16\u001b[0m     \u001b[0;32mdef\u001b[0m \u001b[0mdepositar\u001b[0m\u001b[0;34m(\u001b[0m\u001b[0mself\u001b[0m\u001b[0;34m,\u001b[0m \u001b[0mvalor\u001b[0m\u001b[0;34m)\u001b[0m\u001b[0;34m:\u001b[0m\u001b[0;34m\u001b[0m\u001b[0;34m\u001b[0m\u001b[0m\n\u001b[1;32m     17\u001b[0m         \u001b[0mself\u001b[0m\u001b[0;34m.\u001b[0m\u001b[0msaldo\u001b[0m \u001b[0;34m+=\u001b[0m \u001b[0mvalor\u001b[0m\u001b[0;34m\u001b[0m\u001b[0;34m\u001b[0m\u001b[0m\n\u001b[0;32m---> 18\u001b[0;31m         \u001b[0mself\u001b[0m\u001b[0;34m.\u001b[0m\u001b[0mextrato\u001b[0m\u001b[0;34m.\u001b[0m\u001b[0mtransacoes\u001b[0m\u001b[0;34m.\u001b[0m\u001b[0mappend\u001b[0m\u001b[0;34m(\u001b[0m\u001b[0;34m[\u001b[0m\u001b[0;34m\"DEPOSITO\"\u001b[0m\u001b[0;34m,\u001b[0m \u001b[0mvalor\u001b[0m\u001b[0;34m,\u001b[0m \u001b[0;34m\"Data\"\u001b[0m\u001b[0;34m,\u001b[0m\u001b[0mdatetime\u001b[0m\u001b[0;34m.\u001b[0m\u001b[0mdatetime\u001b[0m\u001b[0;34m.\u001b[0m\u001b[0mtoday\u001b[0m \u001b[0;34m(\u001b[0m\u001b[0;34m)\u001b[0m\u001b[0;34m]\u001b[0m\u001b[0;34m)\u001b[0m\u001b[0;34m\u001b[0m\u001b[0;34m\u001b[0m\u001b[0m\n\u001b[0m\u001b[1;32m     19\u001b[0m \u001b[0;34m\u001b[0m\u001b[0m\n\u001b[1;32m     20\u001b[0m     \u001b[0;32mdef\u001b[0m \u001b[0msacar\u001b[0m\u001b[0;34m(\u001b[0m\u001b[0mself\u001b[0m\u001b[0;34m,\u001b[0m \u001b[0mvalor\u001b[0m\u001b[0;34m)\u001b[0m\u001b[0;34m:\u001b[0m\u001b[0;34m\u001b[0m\u001b[0;34m\u001b[0m\u001b[0m\n",
            "\u001b[0;31mAttributeError\u001b[0m: 'Extrato' object has no attribute 'transacoes'"
          ]
        }
      ]
    },
    {
      "cell_type": "code",
      "source": [
        "class Conta:\n",
        "  def __init__(self, numero, cpf,    nomeTitular, saldo):\n",
        "      self.numero = numero\n",
        "      self.cpf = cpf\n",
        "      self.nomeTitular = nomeTitular\n",
        "      self.saldo = saldo\n",
        "  def depositar(self, valor):\n",
        "      self.saldo += valor\n",
        "  def sacar(self,valor):\n",
        "      if self.saldo < valor:\n",
        "          return False\n",
        "      else:\n",
        "          self.saldo -= valor\n",
        "          return True\n",
        "  def gerarextrato(self):\n",
        "        print(f\"numero:{self.numero}\\n     cpf:{self.cpf}\\nsaldo:{self.saldo}\")\n",
        "  def transfereValor(self,contaDestino,valor):\n",
        "        if self.saldo < valor:\n",
        "           return (\"Não existe saldo suficiente\")\n",
        "        else:\n",
        "           contaDestino.depositar(valor)\n",
        "           self.saldo -= valor\n",
        "        return(\"Transferencia Realizada\") \n",
        "\n",
        "def main():\n",
        "  conta1 = Conta(1, 123,'Joao',0)\n",
        "  conta2 = Conta(3, 456,'Maria',0)\n",
        "  conta1.depositar(1000)\n",
        "  conta1.transfereValor(conta2,500)\n",
        "  print(conta1.saldo)\n",
        "  print(conta2.saldo)\n",
        "\n",
        "if __name__ == \"__main__\": \n",
        "    main()"
      ],
      "metadata": {
        "id": "HYhXzsGBbLb2"
      },
      "execution_count": null,
      "outputs": []
    },
    {
      "cell_type": "code",
      "source": [
        "#classe Conta\n",
        "class Conta:\n",
        "  def __init__(self, numero, cpf, nomeTitular, saldo):\n",
        "        self.numero = numero\n",
        "        self.cpf = cpf\n",
        "        self.nomeTitular = nomeTitular\n",
        "        self.saldo = saldo\n",
        "\n",
        "  def depositar(self, valor):\n",
        "        self.saldo += valor\n",
        "\n",
        "  def sacar(self,valor):\n",
        "        if self.saldo < valor:\n",
        "            return False\n",
        "        else:\n",
        "            self.saldo -= valor\n",
        "            return True\n",
        "\n",
        "  def gerar_extrato(self):\n",
        "        print(f\"numero: {self.numero} \\n cpf: {self.cpf}\\nsaldo: {self.saldo}\")     \n",
        "\n",
        "def main():\n",
        "    c1 = Conta(1,1,\"Joao\",0)\n",
        "    c1.depositar(300)\n",
        "    saque = c1.sacar(400)\n",
        "    c1.gerar_extrato()\n",
        "    print(f\"O saque foi realizado? {saque}\")\n",
        "\n",
        "if __name__ == \"__main__\": \n",
        "    main()\n",
        "\n",
        "\n"
      ],
      "metadata": {
        "id": "Aov7j5HpZOof"
      },
      "execution_count": null,
      "outputs": []
    },
    {
      "cell_type": "code",
      "source": [
        "class Conta:\n",
        "  def __init__(self, numero, cpf, nomeTitular, saldo):\n",
        "    self.numero = numero\n",
        "    self.cpf = cpf\n",
        "    self.nomeTitular = nomeTitular\n",
        "    self.saldo = saldo\n",
        "\n",
        "def main():\n",
        "    c1 = Conta(1,1,\"Joao\",1000) # Objeto sendo instanciado\n",
        "    print (f\"Nome do titular da conta: {c1.nomeTitular}\")\n",
        "    print (f\"Número da conta: {c1.numero}\")\n",
        "    print (f\"CPF do titular da conta: {c1.cpf}\")\n",
        "    print (f\"Saldo da conta: {c1.saldo}\")\n",
        "\n",
        "# Quando um script python é executado, a variável reservada\n",
        "# NAME referente a ele tem valor igual a \"__main__\".\n",
        "# Nesse caso, a condição do IF a seguir será TRUE.\n",
        "# Então o que está no corpo do IF será executado. No caso,\n",
        "# é um chamado ao método main do script\n",
        "\n",
        "if __name__ == \"__main__\": \n",
        "  main()\n",
        "\n"
      ],
      "metadata": {
        "id": "73rmUnEBUuYL"
      },
      "execution_count": null,
      "outputs": []
    },
    {
      "cell_type": "code",
      "source": [
        "from datetime import date\n",
        "\n",
        "class Pessoa:\n",
        "  def __init__(self, nome, idade):\n",
        "    self.nome = nome\n",
        "    self.idade = idade\n",
        "  #cria objeto atraves do ano de nascimento\n",
        "  @classmethod\n",
        "  def apartirAnoNascimento(cls, nome, ano):\n",
        "    return cls(nome, date.today().year - ano)\n",
        "  #método estático: verificar se é maior de idade\n",
        "  @staticmethod\n",
        "  def ehMaiorIdade(idade):\n",
        "    return idade >= 18\n",
        "    \n",
        "pessoa1 = Pessoa('Maria', 26)\n",
        "pessoa2 = Pessoa.apartirAnoNascimento('Ana', 2006)\n",
        "\n",
        "print(pessoa1.idade)\n",
        "print(pessoa2.idade)\n",
        "print(Pessoa.ehMaiorIdade(pessoa2.idade))\n",
        "\n"
      ],
      "metadata": {
        "id": "eZxrwAlQPQSo"
      },
      "execution_count": null,
      "outputs": []
    },
    {
      "cell_type": "code",
      "source": [
        "class Salario:\n",
        "  def __init__(self, base, bonus):\n",
        "    self.base = base\n",
        "    self.bonus = bonus\n",
        "\n",
        "  def salario_anual(self):\n",
        "    return (self.base*12) + self.bonus\n",
        "\n",
        "class Empregado:\n",
        "  def __init__(self, nome, idade, salario):\n",
        "    self.nome = nome\n",
        "    self.idade = idade\n",
        "    self.salario_agregado = salario\n",
        "\n",
        "  def salario_total(self):\n",
        "    return self.salario_agregado.salario_anual()\n",
        "\n",
        "  \n",
        "#salario = Salario(10000,700)\n",
        "emp = Empregado(\"Denio\", 46, Salario(10000,700))\n",
        "print(emp.salario_total())\n",
        "\n",
        "  "
      ],
      "metadata": {
        "id": "cuMEw5khH5Dr"
      },
      "execution_count": null,
      "outputs": []
    }
  ],
  "metadata": {
    "colab": {
      "collapsed_sections": [],
      "name": "Olá, este é o Colaboratory",
      "toc_visible": true,
      "provenance": [],
      "include_colab_link": true
    },
    "kernelspec": {
      "display_name": "Python 3",
      "name": "python3"
    }
  },
  "nbformat": 4,
  "nbformat_minor": 0
}